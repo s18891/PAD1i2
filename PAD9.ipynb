{
 "cells": [
  {
   "cell_type": "code",
   "execution_count": 2,
   "metadata": {
    "collapsed": true,
    "pycharm": {
     "name": "#%%\n"
    }
   },
   "outputs": [
    {
     "name": "stdout",
     "output_type": "stream",
     "text": [
      "<class 'pandas.core.frame.DataFrame'>\n",
      "RangeIndex: 200 entries, 0 to 199\n",
      "Data columns (total 4 columns):\n",
      " #   Column                  Non-Null Count  Dtype \n",
      "---  ------                  --------------  ----- \n",
      " 0   Gender                  200 non-null    object\n",
      " 1   Age                     200 non-null    int64 \n",
      " 2   Annual Income (k$)      200 non-null    int64 \n",
      " 3   Spending Score (1-100)  200 non-null    int64 \n",
      "dtypes: int64(3), object(1)\n",
      "memory usage: 6.4+ KB\n"
     ]
    },
    {
     "data": {
      "text/plain": "0.7927442280257678"
     },
     "execution_count": 2,
     "metadata": {},
     "output_type": "execute_result"
    }
   ],
   "source": [
    "#zad 1\n",
    "import scipy.stats as stats\n",
    "import statsmodels.formula.api as smf\n",
    "import pandas as pd\n",
    "import plotly.express as px\n",
    "import plotly.graph_objects as go\n",
    "import numpy as np\n",
    "import seaborn as sns; sns.set()\n",
    "\n",
    "df = pd.read_csv('PAD_09_PD.csv', sep=';')\n",
    "df.head()\n",
    "df.info()\n",
    "df.columns\n",
    "male = df[df['Gender'] == 'Male']\n",
    "female = df[df['Gender'] == 'Female']\n",
    "\n",
    "male_mean_annual_income = male['Annual Income (k$)'].mean()\n",
    "female_mean_annual_income = female['Annual Income (k$)'].mean()\n",
    "\n",
    "male_std_income = male['Annual Income (k$)'].std()\n",
    "female_std_income = female['Annual Income (k$)'].std()\n",
    "\n",
    "t = male_mean_annual_income - female_mean_annual_income\n",
    "t = t / np.sqrt((male_std_income**2)/len(male) + (female_std_income**2)/len(female))\n",
    "#nasz wynik t\n",
    "t"
   ]
  },
  {
   "cell_type": "code",
   "execution_count": 3,
   "outputs": [
    {
     "data": {
      "text/plain": "0.4300589288693557"
     },
     "execution_count": 3,
     "metadata": {},
     "output_type": "execute_result"
    }
   ],
   "source": [
    "stats.t.sf(abs(t), df=len(male))*2\n",
    "#Nie odrzucamy hipotezy zerowej, próg 0,05 został przekroczony"
   ],
   "metadata": {
    "collapsed": false,
    "pycharm": {
     "name": "#%%\n"
    }
   }
  },
  {
   "cell_type": "code",
   "execution_count": 4,
   "outputs": [
    {
     "data": {
      "text/plain": "   Gender  Age  Income  Score\n0       1   19      15     39\n1       1   21      15     81\n2       0   20      16      6\n3       0   23      16     77\n4       0   31      17     40",
      "text/html": "<div>\n<style scoped>\n    .dataframe tbody tr th:only-of-type {\n        vertical-align: middle;\n    }\n\n    .dataframe tbody tr th {\n        vertical-align: top;\n    }\n\n    .dataframe thead th {\n        text-align: right;\n    }\n</style>\n<table border=\"1\" class=\"dataframe\">\n  <thead>\n    <tr style=\"text-align: right;\">\n      <th></th>\n      <th>Gender</th>\n      <th>Age</th>\n      <th>Income</th>\n      <th>Score</th>\n    </tr>\n  </thead>\n  <tbody>\n    <tr>\n      <th>0</th>\n      <td>1</td>\n      <td>19</td>\n      <td>15</td>\n      <td>39</td>\n    </tr>\n    <tr>\n      <th>1</th>\n      <td>1</td>\n      <td>21</td>\n      <td>15</td>\n      <td>81</td>\n    </tr>\n    <tr>\n      <th>2</th>\n      <td>0</td>\n      <td>20</td>\n      <td>16</td>\n      <td>6</td>\n    </tr>\n    <tr>\n      <th>3</th>\n      <td>0</td>\n      <td>23</td>\n      <td>16</td>\n      <td>77</td>\n    </tr>\n    <tr>\n      <th>4</th>\n      <td>0</td>\n      <td>31</td>\n      <td>17</td>\n      <td>40</td>\n    </tr>\n  </tbody>\n</table>\n</div>"
     },
     "execution_count": 4,
     "metadata": {},
     "output_type": "execute_result"
    }
   ],
   "source": [
    "#zad 2\n",
    "df2 = df.rename({'Spending Score (1-100)':'Score'}, axis=1)\n",
    "df2 = df2.rename({'Annual Income (k$)':'Income'}, axis=1)\n",
    "\n",
    "df2['Gender'] = df2['Gender'].map(lambda x: 1 if x == 'Male' else 0)\n",
    "df2.head()"
   ],
   "metadata": {
    "collapsed": false,
    "pycharm": {
     "name": "#%%\n"
    }
   }
  },
  {
   "cell_type": "code",
   "execution_count": 6,
   "outputs": [
    {
     "data": {
      "text/plain": "<class 'statsmodels.iolib.summary.Summary'>\n\"\"\"\n                            OLS Regression Results                            \n==============================================================================\nDep. Variable:                  Score   R-squared:                       0.109\nModel:                            OLS   Adj. R-squared:                  0.095\nMethod:                 Least Squares   F-statistic:                     7.960\nDate:                Sat, 02 Jul 2022   Prob (F-statistic):           4.91e-05\nTime:                        01:37:49   Log-Likelihood:                -922.05\nNo. Observations:                 200   AIC:                             1852.\nDf Residuals:                     196   BIC:                             1865.\nDf Model:                           3                                         \nCovariance Type:            nonrobust                                         \n==============================================================================\n                 coef    std err          t      P>|t|      [0.025      0.975]\n------------------------------------------------------------------------------\nIntercept     73.9300      6.642     11.130      0.000      60.831      87.029\nGender        -2.0132      3.512     -0.573      0.567      -8.939       4.913\nAge           -0.6004      0.125     -4.806      0.000      -0.847      -0.354\nIncome         0.0079      0.066      0.119      0.905      -0.123       0.139\n==============================================================================\nOmnibus:                       11.059   Durbin-Watson:                   3.448\nProb(Omnibus):                  0.004   Jarque-Bera (JB):                6.033\nSkew:                          -0.233   Prob(JB):                       0.0490\nKurtosis:                       2.288   Cond. No.                         291.\n==============================================================================\n\nNotes:\n[1] Standard Errors assume that the covariance matrix of the errors is correctly specified.\n\"\"\"",
      "text/html": "<table class=\"simpletable\">\n<caption>OLS Regression Results</caption>\n<tr>\n  <th>Dep. Variable:</th>          <td>Score</td>      <th>  R-squared:         </th> <td>   0.109</td>\n</tr>\n<tr>\n  <th>Model:</th>                   <td>OLS</td>       <th>  Adj. R-squared:    </th> <td>   0.095</td>\n</tr>\n<tr>\n  <th>Method:</th>             <td>Least Squares</td>  <th>  F-statistic:       </th> <td>   7.960</td>\n</tr>\n<tr>\n  <th>Date:</th>             <td>Sat, 02 Jul 2022</td> <th>  Prob (F-statistic):</th> <td>4.91e-05</td>\n</tr>\n<tr>\n  <th>Time:</th>                 <td>01:37:49</td>     <th>  Log-Likelihood:    </th> <td> -922.05</td>\n</tr>\n<tr>\n  <th>No. Observations:</th>      <td>   200</td>      <th>  AIC:               </th> <td>   1852.</td>\n</tr>\n<tr>\n  <th>Df Residuals:</th>          <td>   196</td>      <th>  BIC:               </th> <td>   1865.</td>\n</tr>\n<tr>\n  <th>Df Model:</th>              <td>     3</td>      <th>                     </th>     <td> </td>   \n</tr>\n<tr>\n  <th>Covariance Type:</th>      <td>nonrobust</td>    <th>                     </th>     <td> </td>   \n</tr>\n</table>\n<table class=\"simpletable\">\n<tr>\n      <td></td>         <th>coef</th>     <th>std err</th>      <th>t</th>      <th>P>|t|</th>  <th>[0.025</th>    <th>0.975]</th>  \n</tr>\n<tr>\n  <th>Intercept</th> <td>   73.9300</td> <td>    6.642</td> <td>   11.130</td> <td> 0.000</td> <td>   60.831</td> <td>   87.029</td>\n</tr>\n<tr>\n  <th>Gender</th>    <td>   -2.0132</td> <td>    3.512</td> <td>   -0.573</td> <td> 0.567</td> <td>   -8.939</td> <td>    4.913</td>\n</tr>\n<tr>\n  <th>Age</th>       <td>   -0.6004</td> <td>    0.125</td> <td>   -4.806</td> <td> 0.000</td> <td>   -0.847</td> <td>   -0.354</td>\n</tr>\n<tr>\n  <th>Income</th>    <td>    0.0079</td> <td>    0.066</td> <td>    0.119</td> <td> 0.905</td> <td>   -0.123</td> <td>    0.139</td>\n</tr>\n</table>\n<table class=\"simpletable\">\n<tr>\n  <th>Omnibus:</th>       <td>11.059</td> <th>  Durbin-Watson:     </th> <td>   3.448</td>\n</tr>\n<tr>\n  <th>Prob(Omnibus):</th> <td> 0.004</td> <th>  Jarque-Bera (JB):  </th> <td>   6.033</td>\n</tr>\n<tr>\n  <th>Skew:</th>          <td>-0.233</td> <th>  Prob(JB):          </th> <td>  0.0490</td>\n</tr>\n<tr>\n  <th>Kurtosis:</th>      <td> 2.288</td> <th>  Cond. No.          </th> <td>    291.</td>\n</tr>\n</table><br/><br/>Notes:<br/>[1] Standard Errors assume that the covariance matrix of the errors is correctly specified."
     },
     "execution_count": 6,
     "metadata": {},
     "output_type": "execute_result"
    }
   ],
   "source": [
    "model = smf.ols(formula='Score ~ Gender + Age + Income', data=df2).fit()\n",
    "model.summary()"
   ],
   "metadata": {
    "collapsed": false,
    "pycharm": {
     "name": "#%%\n"
    }
   }
  },
  {
   "cell_type": "code",
   "execution_count": null,
   "outputs": [],
   "source": [
    "# usunąłem income ze względu na najmniejszą istotność\n",
    "model = smf.ols(formula='Score ~ Gender + Age', data=df2).fit()\n",
    "model.summary()"
   ],
   "metadata": {
    "collapsed": false,
    "pycharm": {
     "name": "#%%\n"
    }
   }
  }
 ],
 "metadata": {
  "kernelspec": {
   "display_name": "Python 3",
   "language": "python",
   "name": "python3"
  },
  "language_info": {
   "codemirror_mode": {
    "name": "ipython",
    "version": 2
   },
   "file_extension": ".py",
   "mimetype": "text/x-python",
   "name": "python",
   "nbconvert_exporter": "python",
   "pygments_lexer": "ipython2",
   "version": "2.7.6"
  }
 },
 "nbformat": 4,
 "nbformat_minor": 0
}