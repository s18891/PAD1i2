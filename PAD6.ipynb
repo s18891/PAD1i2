{
 "cells": [
  {
   "cell_type": "code",
   "execution_count": 11,
   "outputs": [],
   "source": [
    "from selenium import webdriver\n",
    "from time import sleep\n",
    "from selenium.webdriver.common.by import By\n",
    "import requests\n",
    "\n",
    "driver  = webdriver.Chrome()\n",
    "driver.get(\"https://www.pap.pl/robots.txt\")"
   ],
   "metadata": {
    "collapsed": false,
    "pycharm": {
     "name": "#%%\n"
    }
   }
  },
  {
   "cell_type": "code",
   "execution_count": 12,
   "outputs": [],
   "source": [
    "#2\n",
    "#a\n",
    "driver  = webdriver.Chrome()\n",
    "driver.get(\"https://www.pap.pl/\")\n",
    "cookies_accept = driver.find_element(by=By.XPATH, value='//*[@id=\"cookie\"]/div/div/div/div/div/div[1]')\n",
    "cookies_accept.click()"
   ],
   "metadata": {
    "collapsed": false,
    "pycharm": {
     "name": "#%%\n"
    }
   }
  },
  {
   "cell_type": "code",
   "execution_count": 13,
   "outputs": [],
   "source": [
    "#b\n",
    "driver.maximize_window()"
   ],
   "metadata": {
    "collapsed": false,
    "pycharm": {
     "name": "#%%\n"
    }
   }
  },
  {
   "cell_type": "code",
   "execution_count": 14,
   "outputs": [],
   "source": [
    "#c\n",
    "english = driver.find_element(by=By.XPATH, value='//*[@id=\"navbar\"]/ul[2]/li[3]/a')\n",
    "english.click()"
   ],
   "metadata": {
    "collapsed": false,
    "pycharm": {
     "name": "#%%\n"
    }
   }
  },
  {
   "cell_type": "code",
   "execution_count": 16,
   "outputs": [],
   "source": [
    "#d\n",
    "driver.find_element(by=By.XPATH, value='//*[@id=\"block-mainnavigationen\"]/ul/li[3]/a').click()"
   ],
   "metadata": {
    "collapsed": false,
    "pycharm": {
     "name": "#%%\n"
    }
   }
  },
  {
   "cell_type": "code",
   "execution_count": 17,
   "outputs": [
    {
     "name": "stdout",
     "output_type": "stream",
     "text": [
      "[\"EC approves Polish oil and gas firm's takover of rival group\", 'Fitch upgrades 2022 growth forecast for Poland', 'EU Commissioner announces over EUR 32 bln for Polish agriculture', 'Polish PM secures new investments at Davos', 'Central bank will likely continue rate-hike cycle says governor', \"Poland to issue bonds linked to central bank's rates\", 'Government to offer support to Polish borrowers PM says']\n"
     ]
    }
   ],
   "source": [
    "#e\n",
    "driver.find_element(by=By.XPATH, value='//*[@id=\"block-mainnavigationen\"]/ul/li[3]/a').click()\n",
    "titles = []\n",
    "title = driver.find_element(by=By.XPATH, value='/html/body/div/div[2]/section[2]/div/div[2]/div[1]/div[2]/div/div/div/div[1]/div[2]/h1').text\n",
    "titles.append(title)\n",
    "\n",
    "ul = driver.find_elements(by=By.XPATH, value='/html/body/div/div[2]/section[2]/div/div[2]/div[1]/div[2]/div/div/div/div[2]/div/ul/li')\n",
    "for li in ul:\n",
    "    if li.get_attribute('class') == 'news col-sm-6':\n",
    "        title = li.find_element(by=By.TAG_NAME, value='h2').text\n",
    "        titles.append(title)\n",
    "print(titles)"
   ],
   "metadata": {
    "collapsed": false,
    "pycharm": {
     "name": "#%%\n"
    }
   }
  },
  {
   "cell_type": "code",
   "execution_count": 18,
   "outputs": [],
   "source": [
    "#f\n",
    "driver.find_element(by=By.XPATH, value='//*[@id=\"block-mainnavigationen\"]/ul/li[3]/a').click()\n",
    "images = []\n",
    "image = driver.find_element(by=By.XPATH, value='/html/body/div/div[2]/section[2]/div/div[2]/div[1]/div[2]/div/div/div/div[1]/div[1]/a/img')\n",
    "images.append(image.get_attribute('src'))\n",
    "\n",
    "ul = driver.find_elements(by=By.XPATH, value='/html/body/div/div[2]/section[2]/div/div[2]/div[1]/div[2]/div/div/div/div[2]/div/ul/li')\n",
    "for li in ul:\n",
    "    if li.get_attribute('class') == 'news col-sm-6':\n",
    "        image = li.find_element(by=By.TAG_NAME, value='img').get_attribute('src')\n",
    "        images.append(image)\n",
    "\n",
    "def download_image(url, file_name):\n",
    "    img = requests.get(url)\n",
    "    sleep(2)\n",
    "    with open(file_name, 'wb+') as f:\n",
    "        f.write(img.content)\n",
    "\n",
    "id=1\n",
    "for img in images:\n",
    "    download_image(img, f'{\".\"}/imgs/{id}.png')\n",
    "    id+=1"
   ],
   "metadata": {
    "collapsed": false,
    "pycharm": {
     "name": "#%%\n"
    }
   }
  },
  {
   "cell_type": "code",
   "execution_count": 20,
   "outputs": [],
   "source": [
    "#g\n",
    "driver.execute_script('window.scrollBy(0,10000)')"
   ],
   "metadata": {
    "collapsed": false,
    "pycharm": {
     "name": "#%%\n"
    }
   }
  },
  {
   "cell_type": "code",
   "execution_count": 21,
   "outputs": [
    {
     "name": "stdout",
     "output_type": "stream",
     "text": [
      "74\n"
     ]
    }
   ],
   "source": [
    "#h\n",
    "driver.find_element(by=By.XPATH, value='//*[@id=\"block-mainnavigationen\"]/ul/li[3]/a').click()\n",
    "driver.find_element(by=By.XPATH, value='/html/body/div/div[2]/section[2]/div/div[2]/div[1]/div[2]/div/nav/ul/li[5]/a/span[2]').click()\n",
    "\n",
    "site = driver.find_element(by=By.XPATH, value='/html/body/div/div[2]/section[2]/div/div[2]/div[1]/div[2]/div/nav/ul/li[5]/a').text\n",
    "print(site)"
   ],
   "metadata": {
    "collapsed": false,
    "pycharm": {
     "name": "#%%\n"
    }
   }
  }
 ],
 "metadata": {
  "kernelspec": {
   "display_name": "Python 3",
   "language": "python",
   "name": "python3"
  },
  "language_info": {
   "codemirror_mode": {
    "name": "ipython",
    "version": 2
   },
   "file_extension": ".py",
   "mimetype": "text/x-python",
   "name": "python",
   "nbconvert_exporter": "python",
   "pygments_lexer": "ipython2",
   "version": "2.7.6"
  }
 },
 "nbformat": 4,
 "nbformat_minor": 0
}