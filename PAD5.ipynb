{
 "cells": [
  {
   "cell_type": "code",
   "execution_count": 2,
   "outputs": [
    {
     "name": "stdout",
     "output_type": "stream",
     "text": [
      "<class 'pandas.core.frame.DataFrame'>\n",
      "RangeIndex: 26552 entries, 0 to 26551\n",
      "Data columns (total 7 columns):\n",
      " #   Column           Non-Null Count  Dtype  \n",
      "---  ------           --------------  -----  \n",
      " 0   order_date       26552 non-null  object \n",
      " 1   pages_visited    26552 non-null  int64  \n",
      " 2   order_id         26552 non-null  object \n",
      " 3   customer_id      26552 non-null  object \n",
      " 4   tshirt_category  26552 non-null  object \n",
      " 5   tshirt_price     26552 non-null  float64\n",
      " 6   tshirt_quantity  26552 non-null  int64  \n",
      "dtypes: float64(1), int64(2), object(4)\n",
      "memory usage: 1.4+ MB\n"
     ]
    },
    {
     "data": {
      "text/plain": "   order_date  pages_visited         order_id customer_id  tshirt_category  \\\n0  2016/09/04              9  HTS-038040-0002      038040  White T-Shirt M   \n1  2014/11/14             11  HTS-801797-0001      801797  White T-Shirt M   \n2  2017/02/26             10  HTS-vft1eu-0003      vft1eu  White T-Shirt F   \n3  2013/12/01             10  HTS-914324-0001      914324      Wh Tshirt F   \n4  2015/10/22             12  HTS-88ua9r-0001      88ua9r  White T-Shirt M   \n\n   tshirt_price  tshirt_quantity  \n0          20.0                1  \n1          20.0                1  \n2          18.0                3  \n3          18.0                1  \n4          20.0                1  ",
      "text/html": "<div>\n<style scoped>\n    .dataframe tbody tr th:only-of-type {\n        vertical-align: middle;\n    }\n\n    .dataframe tbody tr th {\n        vertical-align: top;\n    }\n\n    .dataframe thead th {\n        text-align: right;\n    }\n</style>\n<table border=\"1\" class=\"dataframe\">\n  <thead>\n    <tr style=\"text-align: right;\">\n      <th></th>\n      <th>order_date</th>\n      <th>pages_visited</th>\n      <th>order_id</th>\n      <th>customer_id</th>\n      <th>tshirt_category</th>\n      <th>tshirt_price</th>\n      <th>tshirt_quantity</th>\n    </tr>\n  </thead>\n  <tbody>\n    <tr>\n      <th>0</th>\n      <td>2016/09/04</td>\n      <td>9</td>\n      <td>HTS-038040-0002</td>\n      <td>038040</td>\n      <td>White T-Shirt M</td>\n      <td>20.0</td>\n      <td>1</td>\n    </tr>\n    <tr>\n      <th>1</th>\n      <td>2014/11/14</td>\n      <td>11</td>\n      <td>HTS-801797-0001</td>\n      <td>801797</td>\n      <td>White T-Shirt M</td>\n      <td>20.0</td>\n      <td>1</td>\n    </tr>\n    <tr>\n      <th>2</th>\n      <td>2017/02/26</td>\n      <td>10</td>\n      <td>HTS-vft1eu-0003</td>\n      <td>vft1eu</td>\n      <td>White T-Shirt F</td>\n      <td>18.0</td>\n      <td>3</td>\n    </tr>\n    <tr>\n      <th>3</th>\n      <td>2013/12/01</td>\n      <td>10</td>\n      <td>HTS-914324-0001</td>\n      <td>914324</td>\n      <td>Wh Tshirt F</td>\n      <td>18.0</td>\n      <td>1</td>\n    </tr>\n    <tr>\n      <th>4</th>\n      <td>2015/10/22</td>\n      <td>12</td>\n      <td>HTS-88ua9r-0001</td>\n      <td>88ua9r</td>\n      <td>White T-Shirt M</td>\n      <td>20.0</td>\n      <td>1</td>\n    </tr>\n  </tbody>\n</table>\n</div>"
     },
     "execution_count": 2,
     "metadata": {},
     "output_type": "execute_result"
    }
   ],
   "source": [
    "import pandas as pd\n",
    "\n",
    "#zad1\n",
    "df = pd.read_csv('orders.csv', sep=',')\n",
    "df.describe()\n",
    "df.info()\n",
    "df.head()"
   ],
   "metadata": {
    "collapsed": false,
    "pycharm": {
     "name": "#%%\n"
    }
   }
  },
  {
   "cell_type": "code",
   "execution_count": 3,
   "outputs": [
    {
     "data": {
      "text/plain": "      order_date  pages_visited         order_id customer_id  tshirt_category  \\\n0     2016-09-04              9  HTS-038040-0002      038040  White T-Shirt M   \n1     2014-11-14             11  HTS-801797-0001      801797  White T-Shirt M   \n2     2017-02-26             10  HTS-vft1eu-0003      vft1eu  White T-Shirt F   \n3     2013-12-01             10  HTS-914324-0001      914324      Wh Tshirt F   \n4     2015-10-22             12  HTS-88ua9r-0001      88ua9r  White T-Shirt M   \n...          ...            ...              ...         ...              ...   \n26547 2016-11-19             13  HTS-n641x4-0001      n641x4  White T-Shirt M   \n26548 2016-08-02              4  HTS-q0nm12-0001      q0nm12  White T-Shirt M   \n26549 2017-03-09              6  HTS-sby0iz-0001      sby0iz  White T-Shirt M   \n26550 2016-10-04             11  HTS-uz70x4-0001      uz70x4           Hoodie   \n26551 2016-12-16              9  HTS-xnbc22-0001      xnbc22  Black T-Shirt M   \n\n       tshirt_price  tshirt_quantity  \n0              20.0                1  \n1              20.0                1  \n2              18.0                3  \n3              18.0                1  \n4              20.0                1  \n...             ...              ...  \n26547          20.0                1  \n26548          20.0                1  \n26549          20.0                1  \n26550          23.0                5  \n26551          19.0                3  \n\n[26552 rows x 7 columns]",
      "text/html": "<div>\n<style scoped>\n    .dataframe tbody tr th:only-of-type {\n        vertical-align: middle;\n    }\n\n    .dataframe tbody tr th {\n        vertical-align: top;\n    }\n\n    .dataframe thead th {\n        text-align: right;\n    }\n</style>\n<table border=\"1\" class=\"dataframe\">\n  <thead>\n    <tr style=\"text-align: right;\">\n      <th></th>\n      <th>order_date</th>\n      <th>pages_visited</th>\n      <th>order_id</th>\n      <th>customer_id</th>\n      <th>tshirt_category</th>\n      <th>tshirt_price</th>\n      <th>tshirt_quantity</th>\n    </tr>\n  </thead>\n  <tbody>\n    <tr>\n      <th>0</th>\n      <td>2016-09-04</td>\n      <td>9</td>\n      <td>HTS-038040-0002</td>\n      <td>038040</td>\n      <td>White T-Shirt M</td>\n      <td>20.0</td>\n      <td>1</td>\n    </tr>\n    <tr>\n      <th>1</th>\n      <td>2014-11-14</td>\n      <td>11</td>\n      <td>HTS-801797-0001</td>\n      <td>801797</td>\n      <td>White T-Shirt M</td>\n      <td>20.0</td>\n      <td>1</td>\n    </tr>\n    <tr>\n      <th>2</th>\n      <td>2017-02-26</td>\n      <td>10</td>\n      <td>HTS-vft1eu-0003</td>\n      <td>vft1eu</td>\n      <td>White T-Shirt F</td>\n      <td>18.0</td>\n      <td>3</td>\n    </tr>\n    <tr>\n      <th>3</th>\n      <td>2013-12-01</td>\n      <td>10</td>\n      <td>HTS-914324-0001</td>\n      <td>914324</td>\n      <td>Wh Tshirt F</td>\n      <td>18.0</td>\n      <td>1</td>\n    </tr>\n    <tr>\n      <th>4</th>\n      <td>2015-10-22</td>\n      <td>12</td>\n      <td>HTS-88ua9r-0001</td>\n      <td>88ua9r</td>\n      <td>White T-Shirt M</td>\n      <td>20.0</td>\n      <td>1</td>\n    </tr>\n    <tr>\n      <th>...</th>\n      <td>...</td>\n      <td>...</td>\n      <td>...</td>\n      <td>...</td>\n      <td>...</td>\n      <td>...</td>\n      <td>...</td>\n    </tr>\n    <tr>\n      <th>26547</th>\n      <td>2016-11-19</td>\n      <td>13</td>\n      <td>HTS-n641x4-0001</td>\n      <td>n641x4</td>\n      <td>White T-Shirt M</td>\n      <td>20.0</td>\n      <td>1</td>\n    </tr>\n    <tr>\n      <th>26548</th>\n      <td>2016-08-02</td>\n      <td>4</td>\n      <td>HTS-q0nm12-0001</td>\n      <td>q0nm12</td>\n      <td>White T-Shirt M</td>\n      <td>20.0</td>\n      <td>1</td>\n    </tr>\n    <tr>\n      <th>26549</th>\n      <td>2017-03-09</td>\n      <td>6</td>\n      <td>HTS-sby0iz-0001</td>\n      <td>sby0iz</td>\n      <td>White T-Shirt M</td>\n      <td>20.0</td>\n      <td>1</td>\n    </tr>\n    <tr>\n      <th>26550</th>\n      <td>2016-10-04</td>\n      <td>11</td>\n      <td>HTS-uz70x4-0001</td>\n      <td>uz70x4</td>\n      <td>Hoodie</td>\n      <td>23.0</td>\n      <td>5</td>\n    </tr>\n    <tr>\n      <th>26551</th>\n      <td>2016-12-16</td>\n      <td>9</td>\n      <td>HTS-xnbc22-0001</td>\n      <td>xnbc22</td>\n      <td>Black T-Shirt M</td>\n      <td>19.0</td>\n      <td>3</td>\n    </tr>\n  </tbody>\n</table>\n<p>26552 rows × 7 columns</p>\n</div>"
     },
     "execution_count": 3,
     "metadata": {},
     "output_type": "execute_result"
    }
   ],
   "source": [
    "#a\n",
    "df[\"order_date\"]= pd.to_datetime(df[\"order_date\"],yearfirst=True)\n",
    "df"
   ],
   "metadata": {
    "collapsed": false,
    "pycharm": {
     "name": "#%%\n"
    }
   }
  },
  {
   "cell_type": "code",
   "execution_count": 13,
   "outputs": [
    {
     "data": {
      "text/plain": "array(['White T-Shirt M', 'White T-Shirt F', 'Wh Tshirt F',\n       'Black T-Shirt F', 'Hoodie', 'Black T-Shirt M', 'Tennis Shirt',\n       'Wh Tshirt M', 'Bl Tshirt F', 'Bl Tshirt M'], dtype=object)"
     },
     "execution_count": 13,
     "metadata": {},
     "output_type": "execute_result"
    }
   ],
   "source": [
    "#b\n",
    "\n",
    "\n",
    "df[\"tshirt_category\"].unique()\n"
   ],
   "metadata": {
    "collapsed": false,
    "pycharm": {
     "name": "#%%\n"
    }
   }
  },
  {
   "cell_type": "code",
   "execution_count": 14,
   "outputs": [
    {
     "data": {
      "text/plain": "array(['White T-Shirt M', 'White T-Shirt F', 'Black T-Shirt F', 'Hoodie',\n       'Black T-Shirt M', 'Tennis Shirt'], dtype=object)"
     },
     "execution_count": 14,
     "metadata": {},
     "output_type": "execute_result"
    }
   ],
   "source": [
    "#c\n",
    "df[\"tshirt_category\"] = df[\"tshirt_category\"].apply(lambda x: x.replace(\"Wh Tshirt F\", \"White T-shirt F\"))\n",
    "df[\"tshirt_category\"] = df[\"tshirt_category\"].apply(lambda x: x.replace(\"Wh T-shirt F\", \"White T-Shirt F\"))\n",
    "df[\"tshirt_category\"] = df[\"tshirt_category\"].apply(lambda x: x.replace(\"White T-shirt F\", \"White T-Shirt F\"))\n",
    "df[\"tshirt_category\"] = df[\"tshirt_category\"].apply(lambda x: x.replace(\"Wh Tshirt M\", \"White T-Shirt M\"))\n",
    "df[\"tshirt_category\"] = df[\"tshirt_category\"].apply(lambda x: x.replace(\"Bl Tshirt F\", \"Black T-Shirt F\"))\n",
    "df[\"tshirt_category\"] = df[\"tshirt_category\"].apply(lambda x: x.replace(\"Bl Tshirt M\", \"Black T-Shirt M\"))\n",
    "df = df.drop(df[df[\"tshirt_category\"]==\"Blac\"].index)\n",
    "df[\"tshirt_category\"].unique()"
   ],
   "metadata": {
    "collapsed": false,
    "pycharm": {
     "name": "#%%\n"
    }
   }
  },
  {
   "cell_type": "code",
   "execution_count": 15,
   "outputs": [
    {
     "data": {
      "text/plain": "      order_date  pages_visited         order_id customer_id  tshirt_category  \\\n0     2016-09-04              9  HTS-038040-0002      038040  White T-Shirt M   \n1     2014-11-14             11  HTS-801797-0001      801797  White T-Shirt M   \n2     2017-02-26             10  HTS-vft1eu-0003      vft1eu  White T-Shirt F   \n3     2013-12-01             10  HTS-914324-0001      914324  White T-Shirt F   \n4     2015-10-22             12  HTS-88ua9r-0001      88ua9r  White T-Shirt M   \n...          ...            ...              ...         ...              ...   \n26547 2016-11-19             13  HTS-n641x4-0001      n641x4  White T-Shirt M   \n26548 2016-08-02              4  HTS-q0nm12-0001      q0nm12  White T-Shirt M   \n26549 2017-03-09              6  HTS-sby0iz-0001      sby0iz  White T-Shirt M   \n26550 2016-10-04             11  HTS-uz70x4-0001      uz70x4           Hoodie   \n26551 2016-12-16              9  HTS-xnbc22-0001      xnbc22  Black T-Shirt M   \n\n       tshirt_price  tshirt_quantity tshirt_type tshirt_size tshirt_colour  \n0              20.0                1     T-Shirt           M         White  \n1              20.0                1     T-Shirt           M         White  \n2              18.0                3     T-Shirt           F         White  \n3              18.0                1     T-Shirt           F         White  \n4              20.0                1     T-Shirt           M         White  \n...             ...              ...         ...         ...           ...  \n26547          20.0                1     T-Shirt           M         White  \n26548          20.0                1     T-Shirt           M         White  \n26549          20.0                1     T-Shirt           M         White  \n26550          23.0                5      Hoodie        None          None  \n26551          19.0                3     T-Shirt           M         Black  \n\n[26552 rows x 10 columns]",
      "text/html": "<div>\n<style scoped>\n    .dataframe tbody tr th:only-of-type {\n        vertical-align: middle;\n    }\n\n    .dataframe tbody tr th {\n        vertical-align: top;\n    }\n\n    .dataframe thead th {\n        text-align: right;\n    }\n</style>\n<table border=\"1\" class=\"dataframe\">\n  <thead>\n    <tr style=\"text-align: right;\">\n      <th></th>\n      <th>order_date</th>\n      <th>pages_visited</th>\n      <th>order_id</th>\n      <th>customer_id</th>\n      <th>tshirt_category</th>\n      <th>tshirt_price</th>\n      <th>tshirt_quantity</th>\n      <th>tshirt_type</th>\n      <th>tshirt_size</th>\n      <th>tshirt_colour</th>\n    </tr>\n  </thead>\n  <tbody>\n    <tr>\n      <th>0</th>\n      <td>2016-09-04</td>\n      <td>9</td>\n      <td>HTS-038040-0002</td>\n      <td>038040</td>\n      <td>White T-Shirt M</td>\n      <td>20.0</td>\n      <td>1</td>\n      <td>T-Shirt</td>\n      <td>M</td>\n      <td>White</td>\n    </tr>\n    <tr>\n      <th>1</th>\n      <td>2014-11-14</td>\n      <td>11</td>\n      <td>HTS-801797-0001</td>\n      <td>801797</td>\n      <td>White T-Shirt M</td>\n      <td>20.0</td>\n      <td>1</td>\n      <td>T-Shirt</td>\n      <td>M</td>\n      <td>White</td>\n    </tr>\n    <tr>\n      <th>2</th>\n      <td>2017-02-26</td>\n      <td>10</td>\n      <td>HTS-vft1eu-0003</td>\n      <td>vft1eu</td>\n      <td>White T-Shirt F</td>\n      <td>18.0</td>\n      <td>3</td>\n      <td>T-Shirt</td>\n      <td>F</td>\n      <td>White</td>\n    </tr>\n    <tr>\n      <th>3</th>\n      <td>2013-12-01</td>\n      <td>10</td>\n      <td>HTS-914324-0001</td>\n      <td>914324</td>\n      <td>White T-Shirt F</td>\n      <td>18.0</td>\n      <td>1</td>\n      <td>T-Shirt</td>\n      <td>F</td>\n      <td>White</td>\n    </tr>\n    <tr>\n      <th>4</th>\n      <td>2015-10-22</td>\n      <td>12</td>\n      <td>HTS-88ua9r-0001</td>\n      <td>88ua9r</td>\n      <td>White T-Shirt M</td>\n      <td>20.0</td>\n      <td>1</td>\n      <td>T-Shirt</td>\n      <td>M</td>\n      <td>White</td>\n    </tr>\n    <tr>\n      <th>...</th>\n      <td>...</td>\n      <td>...</td>\n      <td>...</td>\n      <td>...</td>\n      <td>...</td>\n      <td>...</td>\n      <td>...</td>\n      <td>...</td>\n      <td>...</td>\n      <td>...</td>\n    </tr>\n    <tr>\n      <th>26547</th>\n      <td>2016-11-19</td>\n      <td>13</td>\n      <td>HTS-n641x4-0001</td>\n      <td>n641x4</td>\n      <td>White T-Shirt M</td>\n      <td>20.0</td>\n      <td>1</td>\n      <td>T-Shirt</td>\n      <td>M</td>\n      <td>White</td>\n    </tr>\n    <tr>\n      <th>26548</th>\n      <td>2016-08-02</td>\n      <td>4</td>\n      <td>HTS-q0nm12-0001</td>\n      <td>q0nm12</td>\n      <td>White T-Shirt M</td>\n      <td>20.0</td>\n      <td>1</td>\n      <td>T-Shirt</td>\n      <td>M</td>\n      <td>White</td>\n    </tr>\n    <tr>\n      <th>26549</th>\n      <td>2017-03-09</td>\n      <td>6</td>\n      <td>HTS-sby0iz-0001</td>\n      <td>sby0iz</td>\n      <td>White T-Shirt M</td>\n      <td>20.0</td>\n      <td>1</td>\n      <td>T-Shirt</td>\n      <td>M</td>\n      <td>White</td>\n    </tr>\n    <tr>\n      <th>26550</th>\n      <td>2016-10-04</td>\n      <td>11</td>\n      <td>HTS-uz70x4-0001</td>\n      <td>uz70x4</td>\n      <td>Hoodie</td>\n      <td>23.0</td>\n      <td>5</td>\n      <td>Hoodie</td>\n      <td>None</td>\n      <td>None</td>\n    </tr>\n    <tr>\n      <th>26551</th>\n      <td>2016-12-16</td>\n      <td>9</td>\n      <td>HTS-xnbc22-0001</td>\n      <td>xnbc22</td>\n      <td>Black T-Shirt M</td>\n      <td>19.0</td>\n      <td>3</td>\n      <td>T-Shirt</td>\n      <td>M</td>\n      <td>Black</td>\n    </tr>\n  </tbody>\n</table>\n<p>26552 rows × 10 columns</p>\n</div>"
     },
     "execution_count": 15,
     "metadata": {},
     "output_type": "execute_result"
    }
   ],
   "source": [
    "#d\n",
    "def tshirt_type (row):\n",
    "   if 'T-Shirt' in row['tshirt_category'] :\n",
    "      return 'T-Shirt'\n",
    "   if 'Hoodie' in row['tshirt_category'] :\n",
    "      return 'Hoodie'\n",
    "   if 'Shirt' in row['tshirt_category'] :\n",
    "      return 'Shirt'\n",
    "\n",
    "def tshirt_size (row):\n",
    "   if 'M' in row['tshirt_category'] :\n",
    "      return 'M'\n",
    "   if 'F' in row['tshirt_category'] :\n",
    "      return 'F'\n",
    "\n",
    "def tshirt_color (row):\n",
    "   if 'White' in row['tshirt_category'] :\n",
    "      return 'White'\n",
    "   if 'Black' in row['tshirt_category'] :\n",
    "      return 'Black'\n",
    "\n",
    "df['tshirt_type'] = df.apply (lambda row: tshirt_type(row), axis=1)\n",
    "df['tshirt_size'] = df.apply (lambda row: tshirt_size(row), axis=1)\n",
    "df['tshirt_colour'] = df.apply (lambda row: tshirt_color(row), axis=1)\n",
    "\n",
    "df"
   ],
   "metadata": {
    "collapsed": false,
    "pycharm": {
     "name": "#%%\n"
    }
   }
  },
  {
   "cell_type": "code",
   "execution_count": 16,
   "outputs": [
    {
     "data": {
      "text/plain": "      order_date  pages_visited         order_id customer_id  tshirt_category  \\\n4     2015-10-22             12  HTS-88ua9r-0001      88ua9r  White T-Shirt M   \n5     2016-01-15              9  HTS-061311-0003      061311  Black T-Shirt F   \n12    2015-11-24             15  HTS-je57lh-0001      je57lh           Hoodie   \n13    2015-10-10              8  HTS-252675-0002      252675  White T-Shirt M   \n15    2015-11-29             15  HTS-heb26i-0001      heb26i  Black T-Shirt F   \n...          ...            ...              ...         ...              ...   \n26496 2016-06-02              2  HTS-5b4bg6-0001      5b4bg6  Black T-Shirt F   \n26513 2016-07-05             12  HTS-bt08zd-0001      bt08zd  White T-Shirt F   \n26515 2016-07-27             17  HTS-gsc3f6-0001      gsc3f6           Hoodie   \n26540 2016-06-08              7  HTS-6ba0i0-0001      6ba0i0  White T-Shirt M   \n26548 2016-08-02              4  HTS-q0nm12-0001      q0nm12  White T-Shirt M   \n\n       tshirt_price  tshirt_quantity tshirt_type tshirt_size tshirt_colour  \n4              20.0                1     T-Shirt           M         White  \n5              17.5                4     T-Shirt           F         Black  \n12             23.0                3      Hoodie        None          None  \n13             20.0                3     T-Shirt           M         White  \n15             17.5                1     T-Shirt           F         Black  \n...             ...              ...         ...         ...           ...  \n26496          17.5                1     T-Shirt           F         Black  \n26513          18.0                1     T-Shirt           F         White  \n26515          23.0                1      Hoodie        None          None  \n26540          20.0                4     T-Shirt           M         White  \n26548          20.0                1     T-Shirt           M         White  \n\n[12638 rows x 10 columns]",
      "text/html": "<div>\n<style scoped>\n    .dataframe tbody tr th:only-of-type {\n        vertical-align: middle;\n    }\n\n    .dataframe tbody tr th {\n        vertical-align: top;\n    }\n\n    .dataframe thead th {\n        text-align: right;\n    }\n</style>\n<table border=\"1\" class=\"dataframe\">\n  <thead>\n    <tr style=\"text-align: right;\">\n      <th></th>\n      <th>order_date</th>\n      <th>pages_visited</th>\n      <th>order_id</th>\n      <th>customer_id</th>\n      <th>tshirt_category</th>\n      <th>tshirt_price</th>\n      <th>tshirt_quantity</th>\n      <th>tshirt_type</th>\n      <th>tshirt_size</th>\n      <th>tshirt_colour</th>\n    </tr>\n  </thead>\n  <tbody>\n    <tr>\n      <th>4</th>\n      <td>2015-10-22</td>\n      <td>12</td>\n      <td>HTS-88ua9r-0001</td>\n      <td>88ua9r</td>\n      <td>White T-Shirt M</td>\n      <td>20.0</td>\n      <td>1</td>\n      <td>T-Shirt</td>\n      <td>M</td>\n      <td>White</td>\n    </tr>\n    <tr>\n      <th>5</th>\n      <td>2016-01-15</td>\n      <td>9</td>\n      <td>HTS-061311-0003</td>\n      <td>061311</td>\n      <td>Black T-Shirt F</td>\n      <td>17.5</td>\n      <td>4</td>\n      <td>T-Shirt</td>\n      <td>F</td>\n      <td>Black</td>\n    </tr>\n    <tr>\n      <th>12</th>\n      <td>2015-11-24</td>\n      <td>15</td>\n      <td>HTS-je57lh-0001</td>\n      <td>je57lh</td>\n      <td>Hoodie</td>\n      <td>23.0</td>\n      <td>3</td>\n      <td>Hoodie</td>\n      <td>None</td>\n      <td>None</td>\n    </tr>\n    <tr>\n      <th>13</th>\n      <td>2015-10-10</td>\n      <td>8</td>\n      <td>HTS-252675-0002</td>\n      <td>252675</td>\n      <td>White T-Shirt M</td>\n      <td>20.0</td>\n      <td>3</td>\n      <td>T-Shirt</td>\n      <td>M</td>\n      <td>White</td>\n    </tr>\n    <tr>\n      <th>15</th>\n      <td>2015-11-29</td>\n      <td>15</td>\n      <td>HTS-heb26i-0001</td>\n      <td>heb26i</td>\n      <td>Black T-Shirt F</td>\n      <td>17.5</td>\n      <td>1</td>\n      <td>T-Shirt</td>\n      <td>F</td>\n      <td>Black</td>\n    </tr>\n    <tr>\n      <th>...</th>\n      <td>...</td>\n      <td>...</td>\n      <td>...</td>\n      <td>...</td>\n      <td>...</td>\n      <td>...</td>\n      <td>...</td>\n      <td>...</td>\n      <td>...</td>\n      <td>...</td>\n    </tr>\n    <tr>\n      <th>26496</th>\n      <td>2016-06-02</td>\n      <td>2</td>\n      <td>HTS-5b4bg6-0001</td>\n      <td>5b4bg6</td>\n      <td>Black T-Shirt F</td>\n      <td>17.5</td>\n      <td>1</td>\n      <td>T-Shirt</td>\n      <td>F</td>\n      <td>Black</td>\n    </tr>\n    <tr>\n      <th>26513</th>\n      <td>2016-07-05</td>\n      <td>12</td>\n      <td>HTS-bt08zd-0001</td>\n      <td>bt08zd</td>\n      <td>White T-Shirt F</td>\n      <td>18.0</td>\n      <td>1</td>\n      <td>T-Shirt</td>\n      <td>F</td>\n      <td>White</td>\n    </tr>\n    <tr>\n      <th>26515</th>\n      <td>2016-07-27</td>\n      <td>17</td>\n      <td>HTS-gsc3f6-0001</td>\n      <td>gsc3f6</td>\n      <td>Hoodie</td>\n      <td>23.0</td>\n      <td>1</td>\n      <td>Hoodie</td>\n      <td>None</td>\n      <td>None</td>\n    </tr>\n    <tr>\n      <th>26540</th>\n      <td>2016-06-08</td>\n      <td>7</td>\n      <td>HTS-6ba0i0-0001</td>\n      <td>6ba0i0</td>\n      <td>White T-Shirt M</td>\n      <td>20.0</td>\n      <td>4</td>\n      <td>T-Shirt</td>\n      <td>M</td>\n      <td>White</td>\n    </tr>\n    <tr>\n      <th>26548</th>\n      <td>2016-08-02</td>\n      <td>4</td>\n      <td>HTS-q0nm12-0001</td>\n      <td>q0nm12</td>\n      <td>White T-Shirt M</td>\n      <td>20.0</td>\n      <td>1</td>\n      <td>T-Shirt</td>\n      <td>M</td>\n      <td>White</td>\n    </tr>\n  </tbody>\n</table>\n<p>12638 rows × 10 columns</p>\n</div>"
     },
     "execution_count": 16,
     "metadata": {},
     "output_type": "execute_result"
    }
   ],
   "source": [
    "#e\n",
    "df[(df['order_date'] >= '2014-12-31') & (df['order_date'] <= '2016-08-02')]"
   ],
   "metadata": {
    "collapsed": false,
    "pycharm": {
     "name": "#%%\n"
    }
   }
  },
  {
   "cell_type": "code",
   "execution_count": 17,
   "outputs": [
    {
     "data": {
      "text/plain": "Index(['customerID', 'gender', 'birthdate', 'user_agent', 'ip_address',\n       'campaign'],\n      dtype='object')"
     },
     "execution_count": 17,
     "metadata": {},
     "output_type": "execute_result"
    }
   ],
   "source": [
    "#zad2\n",
    "df1 = pd.read_csv('customers.csv', sep=',')\n",
    "#a\n",
    "df1.columns"
   ],
   "metadata": {
    "collapsed": false,
    "pycharm": {
     "name": "#%%\n"
    }
   }
  },
  {
   "cell_type": "code",
   "execution_count": 18,
   "outputs": [
    {
     "data": {
      "text/plain": "265520"
     },
     "execution_count": 18,
     "metadata": {},
     "output_type": "execute_result"
    }
   ],
   "source": [
    "#b\n",
    "#ramka 1.\n",
    "df.size"
   ],
   "metadata": {
    "collapsed": false,
    "pycharm": {
     "name": "#%%\n"
    }
   }
  },
  {
   "cell_type": "code",
   "execution_count": 19,
   "outputs": [
    {
     "data": {
      "text/plain": "112596"
     },
     "execution_count": 19,
     "metadata": {},
     "output_type": "execute_result"
    }
   ],
   "source": [
    "#ramka 2.\n",
    "df1.size"
   ],
   "metadata": {
    "collapsed": false,
    "pycharm": {
     "name": "#%%\n"
    }
   }
  },
  {
   "cell_type": "code",
   "execution_count": 20,
   "outputs": [
    {
     "data": {
      "text/plain": "Index(['customer_id', 'gender', 'birthdate', 'user_agent', 'ip_address',\n       'campaign'],\n      dtype='object')"
     },
     "execution_count": 20,
     "metadata": {},
     "output_type": "execute_result"
    }
   ],
   "source": [
    "#c\n",
    "df1.rename(columns={'customerID': 'customer_id'}, inplace=True)\n",
    "df1.columns"
   ],
   "metadata": {
    "collapsed": false,
    "pycharm": {
     "name": "#%%\n"
    }
   }
  },
  {
   "cell_type": "markdown",
   "source": [],
   "metadata": {
    "collapsed": false,
    "pycharm": {
     "name": "#%% md\n"
    }
   }
  },
  {
   "cell_type": "code",
   "execution_count": 21,
   "outputs": [
    {
     "data": {
      "text/plain": "      order_date  pages_visited         order_id customer_id  tshirt_category  \\\n0     2016-09-04              9  HTS-038040-0002      038040  White T-Shirt M   \n1     2014-06-04             13  HTS-038040-0001      038040  White T-Shirt F   \n2     2014-11-14             11  HTS-801797-0001      801797  White T-Shirt M   \n3     2015-10-22             12  HTS-801797-0002      801797  White T-Shirt M   \n4     2017-02-26             10  HTS-vft1eu-0003      vft1eu  White T-Shirt F   \n...          ...            ...              ...         ...              ...   \n25877 2016-11-02             11  HTS-762534-0001      762534           Hoodie   \n25878 2016-11-16              4  HTS-hrpv38-0001      hrpv38  White T-Shirt M   \n25879 2014-07-12             16  HTS-978569-0001      978569           Hoodie   \n25880 2016-08-05             11  HTS-k0batl-0001      k0batl  White T-Shirt M   \n25881 2017-03-13             11  HTS-200121-0001      200121     Tennis Shirt   \n\n       tshirt_price  tshirt_quantity tshirt_type tshirt_size tshirt_colour  \\\n0              20.0                1     T-Shirt           M         White   \n1              18.0                1     T-Shirt           F         White   \n2              20.0                1     T-Shirt           M         White   \n3              20.0                2     T-Shirt           M         White   \n4              18.0                3     T-Shirt           F         White   \n...             ...              ...         ...         ...           ...   \n25877          23.0                1      Hoodie        None          None   \n25878          20.0                3     T-Shirt           M         White   \n25879          23.0                1      Hoodie        None          None   \n25880          20.0                2     T-Shirt           M         White   \n25881          24.0                1       Shirt        None          None   \n\n      gender   birthdate                                         user_agent  \\\n0          F  1946/12/21  Mozilla/5.0 (Windows NT 10.0; WOW64) AppleWebK...   \n1          F  1946/12/21  Mozilla/5.0 (Windows NT 10.0; WOW64) AppleWebK...   \n2          M   1956/7/19  Mozilla/5.0 (Windows NT 10.0; Win64; x64) Appl...   \n3          M   1956/7/19  Mozilla/5.0 (Windows NT 10.0; Win64; x64) Appl...   \n4          F   1969/6/27  Mozilla/5.0 (Macintosh; Intel Mac OS X 10_12_3...   \n...      ...         ...                                                ...   \n25877      M   1963/8/24  Mozilla/5.0 (Windows NT 10.0; WOW64) AppleWebK...   \n25878      F   1951/8/15  Mozilla/5.0 (Windows NT 6.1; WOW64) AppleWebKi...   \n25879      M  1986/11/19  Mozilla/5.0 (Windows NT 10.0; WOW64) AppleWebK...   \n25880      M    1959/2/6  Mozilla/5.0 (Macintosh; Intel Mac OS X 10_12_3...   \n25881      F   1969/8/22  Mozilla/5.0 (Macintosh; Intel Mac OS X 10_12_3...   \n\n            ip_address  campaign  \n0        67.74.254.174     False  \n1        67.74.254.174     False  \n2      137.155.219.158     False  \n3      137.155.219.158     False  \n4         53.115.6.106      True  \n...                ...       ...  \n25877     58.3.164.178      True  \n25878  118.210.235.250      True  \n25879    112.172.97.50     False  \n25880    174.226.65.20     False  \n25881     56.182.53.24     False  \n\n[25882 rows x 15 columns]",
      "text/html": "<div>\n<style scoped>\n    .dataframe tbody tr th:only-of-type {\n        vertical-align: middle;\n    }\n\n    .dataframe tbody tr th {\n        vertical-align: top;\n    }\n\n    .dataframe thead th {\n        text-align: right;\n    }\n</style>\n<table border=\"1\" class=\"dataframe\">\n  <thead>\n    <tr style=\"text-align: right;\">\n      <th></th>\n      <th>order_date</th>\n      <th>pages_visited</th>\n      <th>order_id</th>\n      <th>customer_id</th>\n      <th>tshirt_category</th>\n      <th>tshirt_price</th>\n      <th>tshirt_quantity</th>\n      <th>tshirt_type</th>\n      <th>tshirt_size</th>\n      <th>tshirt_colour</th>\n      <th>gender</th>\n      <th>birthdate</th>\n      <th>user_agent</th>\n      <th>ip_address</th>\n      <th>campaign</th>\n    </tr>\n  </thead>\n  <tbody>\n    <tr>\n      <th>0</th>\n      <td>2016-09-04</td>\n      <td>9</td>\n      <td>HTS-038040-0002</td>\n      <td>038040</td>\n      <td>White T-Shirt M</td>\n      <td>20.0</td>\n      <td>1</td>\n      <td>T-Shirt</td>\n      <td>M</td>\n      <td>White</td>\n      <td>F</td>\n      <td>1946/12/21</td>\n      <td>Mozilla/5.0 (Windows NT 10.0; WOW64) AppleWebK...</td>\n      <td>67.74.254.174</td>\n      <td>False</td>\n    </tr>\n    <tr>\n      <th>1</th>\n      <td>2014-06-04</td>\n      <td>13</td>\n      <td>HTS-038040-0001</td>\n      <td>038040</td>\n      <td>White T-Shirt F</td>\n      <td>18.0</td>\n      <td>1</td>\n      <td>T-Shirt</td>\n      <td>F</td>\n      <td>White</td>\n      <td>F</td>\n      <td>1946/12/21</td>\n      <td>Mozilla/5.0 (Windows NT 10.0; WOW64) AppleWebK...</td>\n      <td>67.74.254.174</td>\n      <td>False</td>\n    </tr>\n    <tr>\n      <th>2</th>\n      <td>2014-11-14</td>\n      <td>11</td>\n      <td>HTS-801797-0001</td>\n      <td>801797</td>\n      <td>White T-Shirt M</td>\n      <td>20.0</td>\n      <td>1</td>\n      <td>T-Shirt</td>\n      <td>M</td>\n      <td>White</td>\n      <td>M</td>\n      <td>1956/7/19</td>\n      <td>Mozilla/5.0 (Windows NT 10.0; Win64; x64) Appl...</td>\n      <td>137.155.219.158</td>\n      <td>False</td>\n    </tr>\n    <tr>\n      <th>3</th>\n      <td>2015-10-22</td>\n      <td>12</td>\n      <td>HTS-801797-0002</td>\n      <td>801797</td>\n      <td>White T-Shirt M</td>\n      <td>20.0</td>\n      <td>2</td>\n      <td>T-Shirt</td>\n      <td>M</td>\n      <td>White</td>\n      <td>M</td>\n      <td>1956/7/19</td>\n      <td>Mozilla/5.0 (Windows NT 10.0; Win64; x64) Appl...</td>\n      <td>137.155.219.158</td>\n      <td>False</td>\n    </tr>\n    <tr>\n      <th>4</th>\n      <td>2017-02-26</td>\n      <td>10</td>\n      <td>HTS-vft1eu-0003</td>\n      <td>vft1eu</td>\n      <td>White T-Shirt F</td>\n      <td>18.0</td>\n      <td>3</td>\n      <td>T-Shirt</td>\n      <td>F</td>\n      <td>White</td>\n      <td>F</td>\n      <td>1969/6/27</td>\n      <td>Mozilla/5.0 (Macintosh; Intel Mac OS X 10_12_3...</td>\n      <td>53.115.6.106</td>\n      <td>True</td>\n    </tr>\n    <tr>\n      <th>...</th>\n      <td>...</td>\n      <td>...</td>\n      <td>...</td>\n      <td>...</td>\n      <td>...</td>\n      <td>...</td>\n      <td>...</td>\n      <td>...</td>\n      <td>...</td>\n      <td>...</td>\n      <td>...</td>\n      <td>...</td>\n      <td>...</td>\n      <td>...</td>\n      <td>...</td>\n    </tr>\n    <tr>\n      <th>25877</th>\n      <td>2016-11-02</td>\n      <td>11</td>\n      <td>HTS-762534-0001</td>\n      <td>762534</td>\n      <td>Hoodie</td>\n      <td>23.0</td>\n      <td>1</td>\n      <td>Hoodie</td>\n      <td>None</td>\n      <td>None</td>\n      <td>M</td>\n      <td>1963/8/24</td>\n      <td>Mozilla/5.0 (Windows NT 10.0; WOW64) AppleWebK...</td>\n      <td>58.3.164.178</td>\n      <td>True</td>\n    </tr>\n    <tr>\n      <th>25878</th>\n      <td>2016-11-16</td>\n      <td>4</td>\n      <td>HTS-hrpv38-0001</td>\n      <td>hrpv38</td>\n      <td>White T-Shirt M</td>\n      <td>20.0</td>\n      <td>3</td>\n      <td>T-Shirt</td>\n      <td>M</td>\n      <td>White</td>\n      <td>F</td>\n      <td>1951/8/15</td>\n      <td>Mozilla/5.0 (Windows NT 6.1; WOW64) AppleWebKi...</td>\n      <td>118.210.235.250</td>\n      <td>True</td>\n    </tr>\n    <tr>\n      <th>25879</th>\n      <td>2014-07-12</td>\n      <td>16</td>\n      <td>HTS-978569-0001</td>\n      <td>978569</td>\n      <td>Hoodie</td>\n      <td>23.0</td>\n      <td>1</td>\n      <td>Hoodie</td>\n      <td>None</td>\n      <td>None</td>\n      <td>M</td>\n      <td>1986/11/19</td>\n      <td>Mozilla/5.0 (Windows NT 10.0; WOW64) AppleWebK...</td>\n      <td>112.172.97.50</td>\n      <td>False</td>\n    </tr>\n    <tr>\n      <th>25880</th>\n      <td>2016-08-05</td>\n      <td>11</td>\n      <td>HTS-k0batl-0001</td>\n      <td>k0batl</td>\n      <td>White T-Shirt M</td>\n      <td>20.0</td>\n      <td>2</td>\n      <td>T-Shirt</td>\n      <td>M</td>\n      <td>White</td>\n      <td>M</td>\n      <td>1959/2/6</td>\n      <td>Mozilla/5.0 (Macintosh; Intel Mac OS X 10_12_3...</td>\n      <td>174.226.65.20</td>\n      <td>False</td>\n    </tr>\n    <tr>\n      <th>25881</th>\n      <td>2017-03-13</td>\n      <td>11</td>\n      <td>HTS-200121-0001</td>\n      <td>200121</td>\n      <td>Tennis Shirt</td>\n      <td>24.0</td>\n      <td>1</td>\n      <td>Shirt</td>\n      <td>None</td>\n      <td>None</td>\n      <td>F</td>\n      <td>1969/8/22</td>\n      <td>Mozilla/5.0 (Macintosh; Intel Mac OS X 10_12_3...</td>\n      <td>56.182.53.24</td>\n      <td>False</td>\n    </tr>\n  </tbody>\n</table>\n<p>25882 rows × 15 columns</p>\n</div>"
     },
     "execution_count": 21,
     "metadata": {},
     "output_type": "execute_result"
    }
   ],
   "source": [
    "#d\n",
    "merged_df= df.merge(df1, on='customer_id', how='inner')\n",
    "\n",
    "merged_df\n",
    "#odpowiedź: zdecydowałem się na użycie inner join, ponieważ w tym wypadku zostaną wybrane rekordy które mają zamówienie i klienta obecnego po obu stronach złączenia"
   ],
   "metadata": {
    "collapsed": false,
    "pycharm": {
     "name": "#%%\n"
    }
   }
  },
  {
   "cell_type": "code",
   "execution_count": 23,
   "outputs": [],
   "source": [
    "#zad3\n",
    "merged_df.to_csv(\"merged.csv\", sep=\";\", index=False)"
   ],
   "metadata": {
    "collapsed": false,
    "pycharm": {
     "name": "#%%\n"
    }
   }
  },
  {
   "cell_type": "code",
   "execution_count": null,
   "outputs": [],
   "source": [],
   "metadata": {
    "collapsed": false,
    "pycharm": {
     "name": "#%%\n"
    }
   }
  }
 ],
 "metadata": {
  "kernelspec": {
   "display_name": "Python 3",
   "language": "python",
   "name": "python3"
  },
  "language_info": {
   "codemirror_mode": {
    "name": "ipython",
    "version": 2
   },
   "file_extension": ".py",
   "mimetype": "text/x-python",
   "name": "python",
   "nbconvert_exporter": "python",
   "pygments_lexer": "ipython2",
   "version": "2.7.6"
  }
 },
 "nbformat": 4,
 "nbformat_minor": 0
}